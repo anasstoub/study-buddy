{
 "cells": [
  {
   "cell_type": "code",
   "execution_count": 2,
   "id": "2fdd22a2",
   "metadata": {},
   "outputs": [],
   "source": [
    "import re\n",
    "import spacy\n",
    "from pdfminer.pdfinterp import PDFResourceManager, PDFPageInterpreter\n",
    "from pdfminer.converter import TextConverter\n",
    "from pdfminer.layout import LAParams\n",
    "from pdfminer.pdfpage import PDFPage\n",
    "from io import StringIO"
   ]
  },
  {
   "cell_type": "code",
   "execution_count": 3,
   "id": "e963e563",
   "metadata": {},
   "outputs": [],
   "source": [
    "def extract_text_from_pdf(pdf_path):\n",
    "    # Initialize the PDF resource manager\n",
    "    rsrcmgr = PDFResourceManager()\n",
    "    # Initialize the StringIO object to store the text\n",
    "    output = StringIO()\n",
    "    # Initialize the TextConverter object\n",
    "    device = TextConverter(rsrcmgr, output, laparams=LAParams())\n",
    "    # Initialize the PDFPageInterpreter object\n",
    "    interpreter = PDFPageInterpreter(rsrcmgr, device)\n",
    "    # Open the PDF file\n",
    "    with open(pdf_path, 'rb') as f:\n",
    "        # Iterate over the pages of the PDF\n",
    "        for page in PDFPage.get_pages(f):\n",
    "            # Process the page\n",
    "            interpreter.process_page(page)\n",
    "    # Close the TextConverter object\n",
    "    device.close()\n",
    "    # Get the text from the StringIO object\n",
    "    text = output.getvalue()\n",
    "        # Lowercase the text\n",
    "    text = text.lower()\n",
    "    # Close the StringIO object\n",
    "    output.close()\n",
    "    # Return the text\n",
    "    return text\n",
    "text= extract_text_from_pdf(\"Survey_on_Device_to_Device_D2D_Communication_for_5GB.pdf\")\n"
   ]
  },
  {
   "cell_type": "code",
   "execution_count": 9,
   "id": "f17a949a",
   "metadata": {},
   "outputs": [],
   "source": [
    "# text"
   ]
  },
  {
   "cell_type": "code",
   "execution_count": 5,
   "id": "5df48858",
   "metadata": {},
   "outputs": [],
   "source": [
    "def tokenizer(text):\n",
    "    nlp = spacy.load('en_core_web_sm')\n",
    "    # Tokenize the text into sentences and words\n",
    "    doc = nlp(''.join(text))\n",
    "    sentences = [sent.text for sent in doc.sents]\n",
    "    words = [word.text for word in doc]\n",
    "    return (sentences,words)\n",
    "sentences, words = tokenizer(text)"
   ]
  },
  {
   "cell_type": "code",
   "execution_count": null,
   "id": "b1dc820b",
   "metadata": {
    "scrolled": true
   },
   "outputs": [],
   "source": [
    "# sentences"
   ]
  },
  {
   "cell_type": "code",
   "execution_count": null,
   "id": "e6da3bfe",
   "metadata": {},
   "outputs": [],
   "source": [
    "# words"
   ]
  },
  {
   "cell_type": "code",
   "execution_count": 7,
   "id": "bc5a2913",
   "metadata": {
    "scrolled": false
   },
   "outputs": [],
   "source": [
    "def remove_stop_words(words):\n",
    "    # Load the list of English stop words\n",
    "    stop_words = spacy.lang.en.stop_words.STOP_WORDS\n",
    "    # Use a regular expression to remove the stop words from the list of words\n",
    "    filtered_words = [word for word in words if word not in stop_words]\n",
    "    return filtered_words\n",
    "filtered_words = remove_stop_words(words)\n"
   ]
  },
  {
   "cell_type": "code",
   "execution_count": 11,
   "id": "e6d6683b",
   "metadata": {},
   "outputs": [],
   "source": [
    "# filtered_words"
   ]
  },
  {
   "cell_type": "code",
   "execution_count": null,
   "id": "6772c13b",
   "metadata": {},
   "outputs": [],
   "source": []
  },
  {
   "cell_type": "code",
   "execution_count": null,
   "id": "9248a99b",
   "metadata": {},
   "outputs": [],
   "source": []
  }
 ],
 "metadata": {
  "kernelspec": {
   "display_name": "Python 3 (ipykernel)",
   "language": "python",
   "name": "python3"
  },
  "language_info": {
   "codemirror_mode": {
    "name": "ipython",
    "version": 3
   },
   "file_extension": ".py",
   "mimetype": "text/x-python",
   "name": "python",
   "nbconvert_exporter": "python",
   "pygments_lexer": "ipython3",
   "version": "3.9.12"
  }
 },
 "nbformat": 4,
 "nbformat_minor": 5
}
